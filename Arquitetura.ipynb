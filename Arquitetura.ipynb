{
  "nbformat": 4,
  "nbformat_minor": 0,
  "metadata": {
    "colab": {
      "name": "Arquitetura.ipynb",
      "provenance": [],
      "authorship_tag": "ABX9TyNJlVzT/FUVpUnqdyA8tLhY",
      "include_colab_link": true
    },
    "kernelspec": {
      "name": "python3",
      "display_name": "Python 3"
    }
  },
  "cells": [
    {
      "cell_type": "markdown",
      "metadata": {
        "id": "view-in-github",
        "colab_type": "text"
      },
      "source": [
        "<a href=\"https://colab.research.google.com/github/ClovisMonteiro/Redes_neurais/blob/master/Arquitetura.ipynb\" target=\"_parent\"><img src=\"https://colab.research.google.com/assets/colab-badge.svg\" alt=\"Open In Colab\"/></a>"
      ]
    },
    {
      "cell_type": "markdown",
      "metadata": {
        "id": "60Du_Ko23szo",
        "colab_type": "text"
      },
      "source": [
        "# Definindo uma arquitetura no PyTorch"
      ]
    },
    {
      "cell_type": "markdown",
      "metadata": {
        "id": "1Dqo16GT33Yc",
        "colab_type": "text"
      },
      "source": [
        "### Carregando dados\n",
        "\n",
        "Exemplo de dados não linerares separáveis( Distribuição em lua ):\n",
        "- https://scikit-learn.org/stable/modules/generated/sklearn.datasets.make_moons.html\n"
      ]
    },
    {
      "cell_type": "code",
      "metadata": {
        "id": "mZrwhZBe4P1k",
        "colab_type": "code",
        "colab": {}
      },
      "source": [
        ""
      ],
      "execution_count": 0,
      "outputs": []
    },
    {
      "cell_type": "markdown",
      "metadata": {
        "id": "JR1BGnps33fU",
        "colab_type": "text"
      },
      "source": [
        "## nn.Sequential"
      ]
    },
    {
      "cell_type": "markdown",
      "metadata": {
        "id": "MXX7SrX133lU",
        "colab_type": "text"
      },
      "source": [
        "O módulo nn.Sequantial é um container onde se pode colocar múltiplos módulos. Ao realizar um foward em um objeto sequential apricará sequencialmente os módulos nele contidaspara gerar uma saída.\n",
        "Exemplo abaixo desse módulo contendo 2 camadas Linear intercaladas por uma função de ativação ReLU."
      ]
    },
    {
      "cell_type": "code",
      "metadata": {
        "id": "ImzVrt2k4zOg",
        "colab_type": "code",
        "colab": {}
      },
      "source": [
        ""
      ],
      "execution_count": 0,
      "outputs": []
    },
    {
      "cell_type": "code",
      "metadata": {
        "id": "cBdico_h3Qwn",
        "colab_type": "code",
        "colab": {}
      },
      "source": [
        ""
      ],
      "execution_count": 0,
      "outputs": []
    }
  ]
}