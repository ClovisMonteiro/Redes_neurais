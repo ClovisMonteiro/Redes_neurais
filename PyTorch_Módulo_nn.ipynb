{
  "nbformat": 4,
  "nbformat_minor": 0,
  "metadata": {
    "colab": {
      "name": "PyTorch - Módulo nn.ipynb",
      "provenance": [],
      "authorship_tag": "ABX9TyNv01H7YGoiLuEn5PInalvf",
      "include_colab_link": true
    },
    "kernelspec": {
      "name": "python3",
      "display_name": "Python 3"
    }
  },
  "cells": [
    {
      "cell_type": "markdown",
      "metadata": {
        "id": "view-in-github",
        "colab_type": "text"
      },
      "source": [
        "<a href=\"https://colab.research.google.com/github/ClovisMonteiro/Redes_neurais/blob/master/PyTorch_M%C3%B3dulo_nn.ipynb\" target=\"_parent\"><img src=\"https://colab.research.google.com/assets/colab-badge.svg\" alt=\"Open In Colab\"/></a>"
      ]
    },
    {
      "cell_type": "markdown",
      "metadata": {
        "id": "kYjJ8bqE48l9",
        "colab_type": "text"
      },
      "source": [
        "# PyTorch"
      ]
    },
    {
      "cell_type": "markdown",
      "metadata": {
        "id": "LcA8Kr2d5CpD",
        "colab_type": "text"
      },
      "source": [
        "Além da computação tensorial eficiente, o PyTorch também oferece o módulo nn para a construção de redes neurais(neural networks).\n",
        "\n",
        "\n",
        "Documentação: https://pytorch.org/docs/stable/nn.html#torch.nn.Linear\n"
      ]
    },
    {
      "cell_type": "markdown",
      "metadata": {
        "id": "xSYQcZQk5P87",
        "colab_type": "text"
      },
      "source": [
        "Ele é importado dentro do pacote torch."
      ]
    },
    {
      "cell_type": "code",
      "metadata": {
        "id": "L8pw1qg240ae",
        "colab_type": "code",
        "colab": {}
      },
      "source": [
        "from torch import nn"
      ],
      "execution_count": 0,
      "outputs": []
    },
    {
      "cell_type": "markdown",
      "metadata": {
        "id": "o4pMtswZ5QFq",
        "colab_type": "text"
      },
      "source": [
        "Através desse módulo podemos instanciar uma ampla diversidade de camadas neurais com chamadas de alto nível.\n",
        "\n",
        "Para instanciar uma camada referente ao perceptron clássico, utilizamos a camada Linear. Ela recebe dois parametros:\n",
        "\n",
        "\n",
        "1.   **in_features**: que é a dimensionalidade da entrada\n",
        "2.   **out_features**: dimensionalidade da saída\n",
        "\n",
        "Na representação clássica do perceptron temos uma entrada com 3 dimensões:\n",
        "\n",
        "*  X = {x1, x2, x3}\n",
        "\n",
        "Em uma única saída (um numero), produto da transformação linear:\n",
        "*   y = WX + b\n",
        "\n",
        "Em termos de camada Linear:\n",
        "*   in_features: 3\n",
        "*   out_features: 1\n",
        "\n",
        "\n",
        "\n",
        "\n"
      ]
    },
    {
      "cell_type": "markdown",
      "metadata": {
        "id": "HSOvImNO8COm",
        "colab_type": "text"
      },
      "source": [
        "# Camada Linear"
      ]
    },
    {
      "cell_type": "markdown",
      "metadata": {
        "id": "i7s1HgHQ8E3b",
        "colab_type": "text"
      },
      "source": [
        "Importando o módulo nn e o torch"
      ]
    },
    {
      "cell_type": "code",
      "metadata": {
        "id": "4V8708Vo8Ffb",
        "colab_type": "code",
        "colab": {}
      },
      "source": [
        "import torch \n",
        "from torch import nn # neural networks"
      ],
      "execution_count": 0,
      "outputs": []
    },
    {
      "cell_type": "markdown",
      "metadata": {
        "id": "V9GlKXme-NzD",
        "colab_type": "text"
      },
      "source": [
        "Instanciando a camada linear -> perceptron"
      ]
    },
    {
      "cell_type": "code",
      "metadata": {
        "id": "fP-WYfFL97r7",
        "colab_type": "code",
        "colab": {}
      },
      "source": [
        ""
      ],
      "execution_count": 0,
      "outputs": []
    }
  ]
}